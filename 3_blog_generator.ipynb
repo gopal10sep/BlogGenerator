{
 "cells": [
  {
   "cell_type": "code",
   "execution_count": 12,
   "id": "d469b272-231c-4da5-812a-4b470ec5c099",
   "metadata": {},
   "outputs": [
    {
     "name": "stdout",
     "output_type": "stream",
     "text": [
      "1.3.2\n"
     ]
    },
    {
     "data": {
      "text/plain": [
       "True"
      ]
     },
     "execution_count": 12,
     "metadata": {},
     "output_type": "execute_result"
    }
   ],
   "source": [
    "import openai\n",
    "from openai import AzureOpenAI\n",
    "from langchain.chat_models import AzureChatOpenAI, ChatOpenAI\n",
    "from langchain.schema import HumanMessage\n",
    "from langchain.agents import AgentType, initialize_agent, load_tools\n",
    "\n",
    "from langchain.tools import Tool, DuckDuckGoSearchRun, DuckDuckGoSearchResults, WikipediaQueryRun\n",
    "from langchain.tools.google_scholar import GoogleScholarQueryRun\n",
    "from langchain.utilities import GoogleSearchAPIWrapper, WikipediaAPIWrapper, ArxivAPIWrapper, WolframAlphaAPIWrapper, GoogleScholarAPIWrapper\n",
    "\n",
    "from dotenv import load_dotenv\n",
    "import json\n",
    "import os\n",
    "import time\n",
    "\n",
    "print(openai.__version__)\n",
    "\n",
    "# Load environment variables from .env file\n",
    "load_dotenv(dotenv_path='completion_gpt4.env')\n",
    "\n",
    "## https://python.langchain.com/docs/integrations/tools"
   ]
  },
  {
   "cell_type": "code",
   "execution_count": 13,
   "id": "38a04ad1-af6d-44b7-a125-6a95ad1633bc",
   "metadata": {},
   "outputs": [],
   "source": [
    "blog_topic = \"How does LLMs work? - A beginners guide (5 part series)\" "
   ]
  },
  {
   "cell_type": "code",
   "execution_count": 14,
   "id": "1f082ec0-b0f8-472f-a9d6-19f47faee8b5",
   "metadata": {},
   "outputs": [],
   "source": [
    "# Create an instance of the AzureChatOpenAI class using Azure OpenAI\n",
    "llm = AzureChatOpenAI(\n",
    "    azure_endpoint=os.getenv(\"AZURE_ENDPOINT\"),\n",
    "    deployment_name=os.getenv(\"OPENAI_DEPLOYMENT_NAME\"),\n",
    "    temperature=0.7)"
   ]
  },
  {
   "cell_type": "code",
   "execution_count": 15,
   "id": "38681cc4-6b98-488d-8386-e0de45c0fb35",
   "metadata": {},
   "outputs": [
    {
     "name": "stdout",
     "output_type": "stream",
     "text": [
      "\n",
      "\"You are a Internet blog writer. You are going to write a 5 part blog series.\n",
      "Analyse the topic and give a list of 4 subtopics on which we can write blogs alongwith the main topic. Total 5 blogs.\n",
      "We want the blogs to have a mix of 60% technical content (high level maths, understanding, research) and 40% content for easy understanding.\n",
      "Topic for the blog series is :\n",
      "How does LLMs work? - A beginners guide (5 part series)Give the output in a List of lists where every row potrays a single blog and cells inside each row represents subtopics\n"
     ]
    }
   ],
   "source": [
    "initial_prompt = \"\"\"\n",
    "\"You are a Internet blog writer. You are going to write a 5 part blog series.\n",
    "Analyse the topic and give a list of 4 subtopics on which we can write blogs alongwith the main topic. Total 5 blogs.\n",
    "We want the blogs to have a mix of 60% technical content (high level maths, understanding, research) and 40% content for easy understanding.\n",
    "Topic for the blog series is :\n",
    "\"\"\"\n",
    "\n",
    "initial_prompt = initial_prompt + blog_topic + \"Give the output in a List of lists where every row potrays a single blog and cells inside each row represents subtopics\"\n",
    "print(initial_prompt)"
   ]
  },
  {
   "cell_type": "code",
   "execution_count": 16,
   "id": "9fd71130",
   "metadata": {},
   "outputs": [],
   "source": [
    "user_prompt = \"\"\"\n",
    "You are a blog writer. You follow following details.\n",
    "- Writing Style: The writing style should strike a balance between informative and engaging. Incorporate a conversational tone to keep readers captivated, ensuring that complex concepts are explained in a user-friendly manner. Use analogies and real-world examples to elucidate intricate quantum principles.\n",
    "- HTML Formatting: The output should be in HTML format for seamless integration into web platforms. Ensure that the HTML is well-structured and includes appropriate tags for headings, paragraphs, and other elements. Use inline styles or refer to external stylesheets for a visually appealing presentation. Use proper formatting for code.\n",
    "-Images: Instead of including images directly, leave text prompts at strategic points for a diffusional model to generate relevant visuals. Describe the scenes or concepts you envision in a way that guides the creation of meaningful and contextually appropriate images.\n",
    "- Diagrams and Flowcharts: Represent any complex processes or quantum algorithms using mermaid.js syntax. This will provide a visually appealing representation of the information, enhancing the reader's understanding. Clearly label components and use appropriate connectors.\n",
    "- Mathematical Equations: Wherever necessary, incorporate mathematical equations to explain quantum principles. Use LaTeX syntax for mathematical notation to ensure precision and clarity. Provide step-by-step explanations alongside equations to aid comprehension.\n",
    "- References: Include references to relevant sources to support your claims and provide additional information. Use hyperlinks to direct readers to external resources. Ensure that the references are credible and authoritative.\n",
    "\n",
    "Finally - Output the complete HTML content. Since it can be text for a subtopic, so dont start from html tags. Start from <h1> and end with <p> tags.\n",
    "Write in very detail - Exlain everything in detail. We need to fill pages.\n",
    "\n",
    "The topic/subtopic is something like this:\n",
    "\"\"\""
   ]
  },
  {
   "cell_type": "code",
   "execution_count": 25,
   "id": "335bfb3f-5afa-4b64-8406-5d6867bddb47",
   "metadata": {},
   "outputs": [],
   "source": [
    "# Testing chat llm  \n",
    "res = llm([HumanMessage(content=initial_prompt)])"
   ]
  },
  {
   "cell_type": "code",
   "execution_count": 30,
   "id": "d42da92d-8323-400b-9783-7147fb950c9a",
   "metadata": {},
   "outputs": [
    {
     "data": {
      "text/plain": [
       "[['Blog 1: Introduction to LLMs',\n",
       "  '1.1 What are LLMs?',\n",
       "  '1.2 Why are LLMs important in natural language processing?',\n",
       "  '1.3 Brief history and development of LLMs',\n",
       "  '1.4 Key components of LLMs'],\n",
       " ['Blog 2: Understanding the architecture of LLMs',\n",
       "  '2.1 Basic structure and components of LLMs',\n",
       "  '2.2 Input and output layers in LLMs',\n",
       "  '2.3 Hidden layers and their role in LLMs',\n",
       "  '2.4 Activation functions used in LLMs'],\n",
       " ['Blog 3: Training LLMs',\n",
       "  '3.1 Data preparation for training LLMs',\n",
       "  '3.2 Supervised learning and labeled data',\n",
       "  '3.3 Loss functions and optimization algorithms in LLM training',\n",
       "  '3.4 Backpropagation and gradient descent in training LLMs'],\n",
       " ['Blog 4: Improving LLM performance',\n",
       "  '4.1 Regularization techniques for preventing overfitting',\n",
       "  '4.2 Hyperparameter tuning in LLMs',\n",
       "  '4.3 Transfer learning and pre-trained LLM models',\n",
       "  '4.4 Handling bias and fairness in LLMs'],\n",
       " ['Blog 5: Applications and future of LLMs',\n",
       "  '5.1 LLMs in natural language understanding and generation',\n",
       "  '5.2 Sentiment analysis and text classification using LLMs',\n",
       "  '5.3 LLMs in machine translation and language modeling',\n",
       "  '5.4 Ethical considerations and challenges in LLM applications']]"
      ]
     },
     "execution_count": 30,
     "metadata": {},
     "output_type": "execute_result"
    }
   ],
   "source": [
    "topics_list = json.loads(res.content.replace(\"\\n\",\"\"))\n",
    "topics_list"
   ]
  },
  {
   "cell_type": "code",
   "execution_count": 17,
   "id": "3c89b359-3eaa-435d-addb-0fe6217f4ac7",
   "metadata": {},
   "outputs": [],
   "source": [
    "first_pass_result = [['Blog 1: Introduction to LLMs',\n",
    "  '1.1 What are LLMs?',\n",
    "  '1.2 Why are LLMs important in natural language processing?',\n",
    "  '1.3 Brief history and development of LLMs',\n",
    "  '1.4 Key components of LLMs'],\n",
    " ['Blog 2: Understanding the architecture of LLMs',\n",
    "  '2.1 Basic structure and components of LLMs',\n",
    "  '2.2 Input and output layers in LLMs',\n",
    "  '2.3 Hidden layers and their role in LLMs',\n",
    "  '2.4 Activation functions used in LLMs'],\n",
    " ['Blog 3: Training LLMs',\n",
    "  '3.1 Data preparation for training LLMs',\n",
    "  '3.2 Supervised learning and labeled data',\n",
    "  '3.3 Loss functions and optimization algorithms in LLM training',\n",
    "  '3.4 Backpropagation and gradient descent in training LLMs'],\n",
    " ['Blog 4: Improving LLM performance',\n",
    "  '4.1 Regularization techniques for preventing overfitting',\n",
    "  '4.2 Hyperparameter tuning in LLMs',\n",
    "  '4.3 Transfer learning and pre-trained LLM models',\n",
    "  '4.4 Handling bias and fairness in LLMs'],\n",
    " ['Blog 5: Applications and future of LLMs',\n",
    "  '5.1 LLMs in natural language understanding and generation',\n",
    "  '5.2 Sentiment analysis and text classification using LLMs',\n",
    "  '5.3 LLMs in machine translation and language modeling',\n",
    "  '5.4 Ethical considerations and challenges in LLM applications']]\n",
    "\n",
    "topics_list = first_pass_result"
   ]
  },
  {
   "cell_type": "code",
   "execution_count": 26,
   "id": "a53c3f24-e290-4782-a37b-09abae824a1c",
   "metadata": {},
   "outputs": [
    {
     "data": {
      "text/plain": [
       "5"
      ]
     },
     "execution_count": 26,
     "metadata": {},
     "output_type": "execute_result"
    }
   ],
   "source": [
    "len(topics_list)"
   ]
  },
  {
   "cell_type": "code",
   "execution_count": null,
   "id": "b75a087d",
   "metadata": {},
   "outputs": [],
   "source": []
  },
  {
   "cell_type": "code",
   "execution_count": 19,
   "id": "004c50b8",
   "metadata": {},
   "outputs": [
    {
     "name": "stdout",
     "output_type": "stream",
     "text": [
      "Generating text for topic:  Blog 1: Introduction to LLMs\n",
      "Generating text for topic:  1.1 What are LLMs?\n",
      "Generating text for topic:  1.2 Why are LLMs important in natural language processing?\n",
      "Generating text for topic:  1.3 Brief history and development of LLMs\n",
      "Generating text for topic:  1.4 Key components of LLMs\n"
     ]
    }
   ],
   "source": [
    "# Create an empty list to store the results\n",
    "results = []\n",
    "\n",
    "# Iterate over the topics\n",
    "for topic in topics_list[:1]:\n",
    "    # Create an empty string to store the generated text for this topic\n",
    "    topic_text = \"\"\n",
    "\n",
    "    # Iterate over the subtopics in this topic\n",
    "    for subtopic in topic:\n",
    "        print(\"Generating text for topic: \", subtopic)\n",
    "        user_prompt_ = user_prompt + subtopic\n",
    "        # Generate text for the subtopic\n",
    "        res = llm([HumanMessage(content=user_prompt_)], max_tokens=16000)\n",
    "        \n",
    "        # Add the generated text to the topic text\n",
    "        topic_text += res.content.replace(\"\\n\",\"\")\n",
    "        time.sleep(1)\n",
    "    \n",
    "    # Append the topic text to the results list\n",
    "    results.append(topic_text)"
   ]
  },
  {
   "cell_type": "code",
   "execution_count": 23,
   "id": "15438b86",
   "metadata": {},
   "outputs": [],
   "source": [
    "response = \"<html><body>\"+ results[0]+ \"</body></html>\""
   ]
  },
  {
   "cell_type": "code",
   "execution_count": 24,
   "id": "7e427936",
   "metadata": {},
   "outputs": [],
   "source": [
    "\n",
    "## Write this response in a file saving in blogs folder giving it a title as blog1.html\n",
    "with open('blogs/blog1.html', 'w') as f:\n",
    "    f.write(response)"
   ]
  },
  {
   "cell_type": "code",
   "execution_count": null,
   "id": "1c9224ec",
   "metadata": {},
   "outputs": [],
   "source": []
  },
  {
   "cell_type": "code",
   "execution_count": null,
   "metadata": {},
   "outputs": [],
   "source": []
  },
  {
   "cell_type": "code",
   "execution_count": null,
   "metadata": {},
   "outputs": [],
   "source": []
  },
  {
   "cell_type": "code",
   "execution_count": null,
   "metadata": {},
   "outputs": [],
   "source": []
  },
  {
   "cell_type": "code",
   "execution_count": null,
   "metadata": {},
   "outputs": [],
   "source": []
  },
  {
   "cell_type": "code",
   "execution_count": null,
   "id": "5a399dd2",
   "metadata": {},
   "outputs": [],
   "source": []
  },
  {
   "cell_type": "code",
   "execution_count": null,
   "id": "906bab50",
   "metadata": {},
   "outputs": [],
   "source": []
  },
  {
   "cell_type": "code",
   "execution_count": 17,
   "id": "301197a6-f19d-4fb6-9f86-88017e318a5b",
   "metadata": {},
   "outputs": [],
   "source": [
    "\n",
    "google_search = GoogleSearchAPIWrapper()\n",
    "google_scholar_search = GoogleScholarAPIWrapper()\n",
    "wiki_search = WikipediaAPIWrapper()\n",
    "wolf_search = WolframAlphaAPIWrapper()\n",
    "arxiv_search = ArxivAPIWrapper()\n",
    "\n",
    "tool_names = [\n",
    "    Tool(\n",
    "        name=\"Wolfram Alpha\",\n",
    "        description=\"Ask Wolfram Alpha anything.\",\n",
    "        func=wolf_search.run\n",
    "    ),\n",
    "    # Tool(\n",
    "    #     name=\"Arxiv\",\n",
    "    #     description=\"Search Arxiv for papers.\",\n",
    "    #     func=arxiv_search.run\n",
    "    # ),\n",
    "    # Tool(\n",
    "    #     name=\"Google Search\", \n",
    "    #     description=\"Search Google and summarise the takeaway from the first five results.\", \n",
    "    #     func=google_search.run\n",
    "    # ),\n",
    "    # Tool(\n",
    "    #     name=\"Google Scholar Search\", \n",
    "    #     description=\"Search Google Scholar for research papers and summarise the research in first five papers highlighting the papers.\", \n",
    "    #     func=google_scholar_search.run\n",
    "    # ),\n",
    "    Tool(\n",
    "        name=\"Wikipedia Search\", \n",
    "        description=\"Search Wikipedia for detailed summary.\", \n",
    "        func=wiki_search.run\n",
    "    ), \n",
    "]\n",
    "\n",
    "agent_chain = initialize_agent(\n",
    "    tool_names,\n",
    "    llm,\n",
    "    agent=AgentType.ZERO_SHOT_REACT_DESCRIPTION,\n",
    "    verbose=True,\n",
    ")"
   ]
  },
  {
   "cell_type": "code",
   "execution_count": null,
   "id": "b7fcd1ab",
   "metadata": {},
   "outputs": [],
   "source": []
  },
  {
   "cell_type": "code",
   "execution_count": 16,
   "id": "7e77e5d3-d913-494d-acf0-8de5f884cb39",
   "metadata": {},
   "outputs": [],
   "source": []
  },
  {
   "cell_type": "code",
   "execution_count": 12,
   "id": "33cf5600-6fe8-4acf-aeb5-8622822bc2e8",
   "metadata": {},
   "outputs": [],
   "source": []
  },
  {
   "cell_type": "code",
   "execution_count": 13,
   "id": "68299aae-7732-4771-b521-ef2e4d9b86c1",
   "metadata": {},
   "outputs": [],
   "source": [
    "final_res = []"
   ]
  },
  {
   "cell_type": "code",
   "execution_count": null,
   "id": "09c7e00d",
   "metadata": {},
   "outputs": [],
   "source": []
  },
  {
   "cell_type": "code",
   "execution_count": 18,
   "id": "78266181",
   "metadata": {},
   "outputs": [
    {
     "name": "stdout",
     "output_type": "stream",
     "text": [
      "\n",
      "\n",
      "\u001b[1m> Entering new AgentExecutor chain...\u001b[0m\n",
      "\u001b[32;1m\u001b[1;3mThis is a task-based question where I need to generate a blog on the topic \"Introduction to Large Language Models (LLMs)\". Given the requirements, I need to write a blog of approximately 2000 words, with the specified subtopics, in an engaging, informative style. The blog should be in HTML format, and I have to use real-world examples, analogies, mermaid.js for diagrams and flowcharts, LaTeX for mathematical equations, and provide text prompts for image generation. I don't think I need to use external sources for this task, but rather rely on my capabilities as a language model to generate the content.\n",
      "Action: N/A\n",
      "Action Input: N/A\u001b[0m\n",
      "Observation: N/A is not a valid tool, try one of [Wolfram Alpha, Wikipedia Search].\n",
      "Thought:\u001b[32;1m\u001b[1;3mSince this is a task-based question requiring content creation rather than information retrieval, I don't need to use Wolfram Alpha or Wikipedia Search. Instead, I'll utilize my knowledge base to generate the blog post.\n",
      "Action: N/A\n",
      "Action Input: N/A\u001b[0m\n",
      "Observation: N/A is not a valid tool, try one of [Wolfram Alpha, Wikipedia Search].\n",
      "Thought:\u001b[32;1m\u001b[1;3mMy task is to generate a blog post about Large Language Models (LLMs). I will consider the provided writing style, HTML formatting, image prompts, diagrams, equations, and conclusion instructions while creating the blog.\n",
      "Action: N/A\n",
      "Action Input: N/A\u001b[0m\n",
      "Observation: N/A is not a valid tool, try one of [Wolfram Alpha, Wikipedia Search].\n",
      "Thought:\u001b[32;1m\u001b[1;3mI'm not required to use either Wolfram Alpha or Wikipedia Search for this task. Let me proceed with generating the blog content.\n",
      "Final Answer: \n",
      "\n",
      "```html\n",
      "<!DOCTYPE html>\n",
      "<html>\n",
      "<head>\n",
      "    <title>Introduction to Large Language Models</title>\n",
      "</head>\n",
      "<body>\n",
      "    <h1>Introduction to Large Language Models (LLMs)</h1>\n",
      "    <p>Imagine having a conversation with your computer, and it understands you perfectly, providing you with accurate, insightful responses. This is the promise of Large Language Models (LLMs), a breakthrough in the field of Natural Language Processing (NLP).</p>\n",
      "\n",
      "    <h2>1.1 What are LLMs?</h2>\n",
      "    <p>Large Language Models are machine learning models that have been trained on a vast amount of text data. They can generate human-like text, understand context, and even exhibit a degree of common sense reasoning.</p>\n",
      "\n",
      "    <!--Image: Show a graphic of a large language model processing text-->\n",
      "\n",
      "    <h2>1.2 Why are LLMs important in natural language processing?</h2>\n",
      "    <p>LLMs have revolutionized NLP by providing a way to understand and generate human language more accurately than ever before. They are behind many of the voice assistants and chatbots we interact with daily, making our interactions with technology more natural and seamless.</p>\n",
      "\n",
      "    <!--Image: Show a graphic of various applications of LLMs-->\n",
      "\n",
      "    <h2>1.3 Brief history and development of LLMs</h2>\n",
      "    <p>The development of LLMs has been a gradual process, with each new model building upon the successes of its predecessors. The journey began with simple bag-of-words models, progressed to sequence-based models like RNNs and LSTMs, and has now reached the era of transformer-based models like GPT-3 and BERT.</p>\n",
      "\n",
      "    <!--Diagram: Show a timeline of LLM development-->\n",
      "\n",
      "    <h2>1.4 Key components of LLMs</h2>\n",
      "    <p>LLMs consist of several key components that allow them to understand and generate text. These include the model architecture (often a transformer), the input and output embeddings, the attention mechanism, and the training data.</p>\n",
      "\n",
      "    <!--Diagram: Show a diagram of the components of an LLM-->\n",
      "\n",
      "    <h2>Conclusion</h2>\n",
      "    <p>Large Language Models are a transformative technology that has reshaped the landscape of Natural Language Processing. As they continue to evolve and improve, they promise to make our interactions with technology even more natural and meaningful. So stay curious, explore, and delve deeper into the fascinating world of LLMs!</p>\n",
      "</body>\n",
      "</html>\n",
      "```\n",
      "\n",
      "Note: The above blog content is a simplified and approximate representation. The actual blog would include more detailed explanations, real-world examples, analogies, mermaid.js diagrams, LaTeX equations, and image generation prompts as required.\u001b[0m\n",
      "\n",
      "\u001b[1m> Finished chain.\u001b[0m\n"
     ]
    }
   ],
   "source": [
    "row = topics_list[0]\n",
    "topic = \" \".join(row)\n",
    "user_prompt_ = user_prompt + topic\n",
    "response = llm.run(user_prompt_)"
   ]
  },
  {
   "cell_type": "code",
   "execution_count": 23,
   "id": "0d8c09ad",
   "metadata": {},
   "outputs": [],
   "source": [
    "### Write code to clean response to only include content inside <html> tags\n",
    "response = response.replace(\"\\n\",\"\")\n",
    "response = response.split(\"<html>\")[1].split(\"</html>\")[0]  # This is the final response\n",
    "\n",
    "## Write this response in a file saving in blogs folder giving it a title as blog1.html\n",
    "with open('blogs/blog1.html', 'w') as f:\n",
    "    f.write(response)"
   ]
  },
  {
   "cell_type": "code",
   "execution_count": 20,
   "id": "654aaff0-84e6-4818-82cd-d97d5efb0ff3",
   "metadata": {},
   "outputs": [],
   "source": [
    "# # Iterate through each row and print all cells in a single statement\n",
    "# for row in topics_list:\n",
    "\n",
    "#     final_res.append(response)\n",
    "\n"
   ]
  },
  {
   "cell_type": "code",
   "execution_count": null,
   "id": "5fb41335",
   "metadata": {},
   "outputs": [],
   "source": []
  }
 ],
 "metadata": {
  "kernelspec": {
   "display_name": "Python 3 (ipykernel)",
   "language": "python",
   "name": "python3"
  },
  "language_info": {
   "codemirror_mode": {
    "name": "ipython",
    "version": 3
   },
   "file_extension": ".py",
   "mimetype": "text/x-python",
   "name": "python",
   "nbconvert_exporter": "python",
   "pygments_lexer": "ipython3",
   "version": "3.10.9"
  }
 },
 "nbformat": 4,
 "nbformat_minor": 5
}
